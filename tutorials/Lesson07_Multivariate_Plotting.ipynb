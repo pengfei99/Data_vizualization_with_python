{
 "cells": [
  {
   "cell_type": "markdown",
   "source": [
    "# 7 Multivariate plotting\n",
    "\n"
   ],
   "metadata": {
    "collapsed": false
   }
  },
  {
   "cell_type": "code",
   "execution_count": 1,
   "outputs": [],
   "source": [
    "import pandas as pd\n",
    "import numpy as np\n",
    "import seaborn as sns\n",
    "import matplotlib.pyplot as plt"
   ],
   "metadata": {
    "collapsed": false
   }
  },
  {
   "cell_type": "code",
   "execution_count": 2,
   "outputs": [],
   "source": [
    "root_path=\"https://minio.lab.sspcloud.fr/pengfei/diffusion/data_viz\"\n",
    "footballer_input_file=f'{root_path}/footballer.csv'"
   ],
   "metadata": {
    "collapsed": false
   }
  },
  {
   "cell_type": "code",
   "execution_count": 3,
   "outputs": [
    {
     "name": "stderr",
     "output_type": "stream",
     "text": [
      "/tmp/ipykernel_234897/4024723477.py:1: DtypeWarning: Columns (23,35) have mixed types. Specify dtype option on import or set low_memory=False.\n",
      "  df=pd.read_csv(footballer_input_file,index_col=0,encoding='utf8')\n"
     ]
    }
   ],
   "source": [
    "df=pd.read_csv(footballer_input_file,index_col=0,encoding='utf8')"
   ],
   "metadata": {
    "collapsed": false
   }
  },
  {
   "cell_type": "code",
   "execution_count": 4,
   "outputs": [
    {
     "name": "stdout",
     "output_type": "stream",
     "text": [
      "0    €95.5M\n",
      "1     €105M\n",
      "2     €123M\n",
      "3      €97M\n",
      "4      €61M\n",
      "Name: Value, dtype: object\n"
     ]
    }
   ],
   "source": [
    "print(df['Value'].head(5))"
   ],
   "metadata": {
    "collapsed": false
   }
  },
  {
   "cell_type": "markdown",
   "source": [
    "## 7.1 Clean the value column\n",
    "\n",
    "break the Value column(€95.5M) into two columns, Unit column can be M (million) or 0\n",
    "The Value (M) column represents the player's value in Million,\n",
    "examples:\n",
    "€95.5M -> M, 95.5\n",
    "€0 -> 0, 0"
   ],
   "metadata": {
    "collapsed": false
   }
  },
  {
   "cell_type": "code",
   "execution_count": 5,
   "outputs": [],
   "source": [
    "footballers= df.copy()\n",
    "footballers['Unit'] = df['Value'].str[-1]\n",
    "footballers['Value (M)'] = np.where(footballers['Unit'] == '0', 0,\n",
    "                                    footballers['Value'].str[1:-1].replace(r'[a-zA-Z]',''))\n",
    "#print(footballers[footballers['Unit']=='0']['Value'].head(5))\n",
    "footballers['Value (M)'] = footballers['Value (M)'].astype(float)\n",
    "footballers['Value (M)'] = np.where(footballers['Unit'] == 'M',\n",
    "                                    footballers['Value (M)'],\n",
    "                                    footballers['Value (M)']/1000)"
   ],
   "metadata": {
    "collapsed": false
   }
  },
  {
   "cell_type": "code",
   "execution_count": 6,
   "outputs": [],
   "source": [
    "# replace the old value column by Value (M) column\n",
    "# replace the old position column by the first element in Preferred Position\n",
    "footballers = footballers.assign(Value=footballers['Value (M)'],\n",
    "                                 Position=footballers['Preferred Positions'].str.split().str[0])\n"
   ],
   "metadata": {
    "collapsed": false
   }
  },
  {
   "cell_type": "code",
   "execution_count": 10,
   "outputs": [
    {
     "name": "stdout",
     "output_type": "stream",
     "text": [
      "footballers has millions in values:\n",
      " 0     95.5\n",
      "1    105.0\n",
      "2    123.0\n",
      "3     97.0\n",
      "4     61.0\n",
      "Name: Value (M), dtype: float64\n",
      "footballers has nothing in values:\n",
      " 162    0.0\n",
      "167    0.0\n",
      "274    0.0\n",
      "472    0.0\n",
      "488    0.0\n",
      "Name: Value (M), dtype: float64\n"
     ]
    }
   ],
   "source": [
    "print(f\"footballers has millions in values:\\n {footballers[footballers['Unit']=='M']['Value (M)'].head(5)}\")\n",
    "print(f\"footballers has nothing in values:\\n {footballers[footballers['Unit']=='0']['Value (M)'].head(5)}\")"
   ],
   "metadata": {
    "collapsed": false
   }
  },
  {
   "cell_type": "code",
   "execution_count": 11,
   "outputs": [
    {
     "name": "stdout",
     "output_type": "stream",
     "text": [
      "0    M\n",
      "1    M\n",
      "2    M\n",
      "3    M\n",
      "4    M\n",
      "Name: Unit, dtype: object\n",
      "                Name  Age                                            Photo  \\\n",
      "0  Cristiano Ronaldo   32   https://cdn.sofifa.org/48/18/players/20801.png   \n",
      "1           L. Messi   30  https://cdn.sofifa.org/48/18/players/158023.png   \n",
      "2             Neymar   25  https://cdn.sofifa.org/48/18/players/190871.png   \n",
      "3          L. Suárez   30  https://cdn.sofifa.org/48/18/players/176580.png   \n",
      "4           M. Neuer   31  https://cdn.sofifa.org/48/18/players/167495.png   \n",
      "\n",
      "  Nationality                                 Flag  Overall  Potential  \\\n",
      "0    Portugal  https://cdn.sofifa.org/flags/38.png       94         94   \n",
      "1   Argentina  https://cdn.sofifa.org/flags/52.png       93         93   \n",
      "2      Brazil  https://cdn.sofifa.org/flags/54.png       92         94   \n",
      "3     Uruguay  https://cdn.sofifa.org/flags/60.png       92         92   \n",
      "4     Germany  https://cdn.sofifa.org/flags/21.png       92         92   \n",
      "\n",
      "                  Club                                   Club Logo  Value  \\\n",
      "0       Real Madrid CF  https://cdn.sofifa.org/24/18/teams/243.png   95.5   \n",
      "1         FC Barcelona  https://cdn.sofifa.org/24/18/teams/241.png  105.0   \n",
      "2  Paris Saint-Germain   https://cdn.sofifa.org/24/18/teams/73.png  123.0   \n",
      "3         FC Barcelona  https://cdn.sofifa.org/24/18/teams/241.png   97.0   \n",
      "4     FC Bayern Munich   https://cdn.sofifa.org/24/18/teams/21.png   61.0   \n",
      "\n",
      "   ...   RDM    RF    RM    RS    RW   RWB    ST Unit Value (M) Position  \n",
      "0  ...  62.0  91.0  89.0  92.0  91.0  66.0  92.0    M      95.5       ST  \n",
      "1  ...  59.0  92.0  90.0  88.0  91.0  62.0  88.0    M     105.0       RW  \n",
      "2  ...  59.0  88.0  87.0  84.0  89.0  64.0  84.0    M     123.0       LW  \n",
      "3  ...  65.0  88.0  85.0  88.0  87.0  68.0  88.0    M      97.0       ST  \n",
      "4  ...   NaN   NaN   NaN   NaN   NaN   NaN   NaN    M      61.0       GK  \n",
      "\n",
      "[5 rows x 77 columns]\n"
     ]
    }
   ],
   "source": [
    "print(footballers['Unit'].head(5))\n",
    "\n",
    "print(footballers.head())"
   ],
   "metadata": {
    "collapsed": false
   }
  },
  {
   "cell_type": "markdown",
   "source": [
    "Adding more visual variables\n",
    "\n",
    "The most obvious way to plot lots of variables is to augment the visualizations we've been using thus far with even more visual variables. A visual variable is any visual dimension or marker that we can use to perceptually distinguish two data elements from one another. Examples include size, color, shape, and one, two, and even three-dimensional position.\n",
    "\n",
    "\"Good\" multivariate data displays are ones that make efficient, easily-interpretable use of these parameters.\n"
   ],
   "metadata": {
    "collapsed": false
   }
  },
  {
   "cell_type": "markdown",
   "source": [
    "## 7.2 Multivariate scatter plots\n",
    "\n",
    "Let's look at some examples. We'll start with the scatter plot. Supose that we are interested in seeing which\n",
    "type of offensive players tends to get paid the most: the striker, the right-winger, or the left-winger.\n"
   ],
   "metadata": {
    "collapsed": false
   }
  },
  {
   "cell_type": "code",
   "execution_count": 12,
   "outputs": [
    {
     "data": {
      "text/plain": "<Figure size 572.875x500 with 1 Axes>",
      "image/png": "[encoded data removed]"
     },
     "metadata": {},
     "output_type": "display_data"
    }
   ],
   "source": [
    "# use color for hue distinction, the default setting\n",
    "sns.lmplot(x='Value',y='Overall',hue='Position',data=footballers.loc[footballers['Position'].isin(['ST','RW','LW'])],fit_reg=False)\n",
    "plt.show()\n"
   ],
   "metadata": {
    "collapsed": false
   }
  },
  {
   "cell_type": "markdown",
   "source": [
    "This scatterplot uses three visual variables. The horizontal position (x-value) tracks the Value of the player\n",
    "(how well they are paid). The vertical position (y-value) tracks the Overall score of the player across all attributes.\n",
    "And the color (the hue parameter) tracks which of the three categories of interest the player the point represents is in.\n",
    "\n",
    "The new variable in this chart is color. Color provides an aesthetically pleasing visual, but it's tricky to use.\n",
    "Looking at this scatter plot we see the same overplotting issue we saw in previous sections. But we no longer have an\n",
    "easy solution, like using a hex plot, because color doesn't make sense in that setting.\n",
    "\n",
    "Another example visual variable is shape. Shape controls, well, the shape of the marker:\n"
   ],
   "metadata": {
    "collapsed": false
   }
  }
 ],
 "metadata": {
  "kernelspec": {
   "display_name": "Python 3",
   "language": "python",
   "name": "python3"
  },
  "language_info": {
   "codemirror_mode": {
    "name": "ipython",
    "version": 2
   },
   "file_extension": ".py",
   "mimetype": "text/x-python",
   "name": "python",
   "nbconvert_exporter": "python",
   "pygments_lexer": "ipython2",
   "version": "2.7.6"
  }
 },
 "nbformat": 4,
 "nbformat_minor": 0
}
